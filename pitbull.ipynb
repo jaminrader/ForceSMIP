{
 "cells": [
  {
   "cell_type": "code",
   "execution_count": 1,
   "id": "b02c2762-27a4-4f46-ab60-1462314565e5",
   "metadata": {},
   "outputs": [
    {
     "name": "stderr",
     "output_type": "stream",
     "text": [
      "2023-08-31 11:27:14.187032: I tensorflow/core/util/port.cc:110] oneDNN custom operations are on. You may see slightly different numerical results due to floating-point round-off errors from different computation orders. To turn them off, set the environment variable `TF_ENABLE_ONEDNN_OPTS=0`.\n",
      "2023-08-31 11:27:14.189342: I tensorflow/tsl/cuda/cudart_stub.cc:28] Could not find cuda drivers on your machine, GPU will not be used.\n",
      "2023-08-31 11:27:14.242703: I tensorflow/tsl/cuda/cudart_stub.cc:28] Could not find cuda drivers on your machine, GPU will not be used.\n",
      "2023-08-31 11:27:14.243757: I tensorflow/core/platform/cpu_feature_guard.cc:182] This TensorFlow binary is optimized to use available CPU instructions in performance-critical operations.\n",
      "To enable the following instructions: AVX2 AVX512F AVX512_VNNI FMA, in other operations, rebuild TensorFlow with the appropriate compiler flags.\n",
      "2023-08-31 11:27:15.313370: W tensorflow/compiler/tf2tensorrt/utils/py_utils.cc:38] TF-TRT Warning: Could not find TensorRT\n"
     ]
    }
   ],
   "source": [
    "import xarray as xr\n",
    "import os\n",
    "import argparse\n",
    "import pickle\n",
    "import numpy as np\n",
    "import experiments as exp\n",
    "import VED\n",
    "import preprocessing\n",
    "import tensorflow as tf\n",
    "import importlib as imp"
   ]
  },
  {
   "cell_type": "code",
   "execution_count": 2,
   "id": "84c89a20-a5c6-46e8-89ef-43984c9a95d7",
   "metadata": {},
   "outputs": [
    {
     "name": "stdout",
     "output_type": "stream",
     "text": [
      "dict_keys(['exp_template', 'test_exp'])\n"
     ]
    }
   ],
   "source": [
    "exp_name = 'test_exp'\n",
    "# list experiments\n",
    "print(exp.experiments.keys())"
   ]
  },
  {
   "cell_type": "code",
   "execution_count": 3,
   "id": "e0870647-484b-473b-8603-3a530a6d8efe",
   "metadata": {},
   "outputs": [],
   "source": [
    "experiment_settings = exp.get_experiment(exp_name)"
   ]
  },
  {
   "cell_type": "code",
   "execution_count": 4,
   "id": "514a51b1-3630-42c1-8a7b-4730bfb13a0d",
   "metadata": {},
   "outputs": [
    {
     "data": {
      "text/plain": [
       "{'seed': 0,\n",
       " 'learn_rate': 0.001,\n",
       " 'patience': 50,\n",
       " 'batch_size': 64,\n",
       " 'max_epochs': 5000,\n",
       " 'metric': '',\n",
       " 'std_method': '',\n",
       " 'input_variable': ['tos', 'pr'],\n",
       " 'target_variable': 'tos',\n",
       " 'target_component': 'internal',\n",
       " 'train_models': ['CESM2'],\n",
       " 'val_models': ['CESM2'],\n",
       " 'train_members': array([0, 1, 2, 3, 4, 5, 6, 7, 8, 9]),\n",
       " 'val_members': array([11, 12]),\n",
       " 'time_range': 'Tier1',\n",
       " 'CNN_blocks': [2],\n",
       " 'CNN_filters': [32],\n",
       " 'CNN_kernals': [3],\n",
       " 'CNN_strides': [1],\n",
       " 'encoding_nodes': [20, 20, 10],\n",
       " 'code_nodes': 10,\n",
       " 'activation': 'linear',\n",
       " 'variational_loss': 0.0001,\n",
       " 'exp_name': 'test_exp'}"
      ]
     },
     "execution_count": 4,
     "metadata": {},
     "output_type": "execute_result"
    }
   ],
   "source": [
    "experiment_settings"
   ]
  },
  {
   "cell_type": "code",
   "execution_count": null,
   "id": "a8407ca6-6e2e-41e5-8974-b2d8e1a1e009",
   "metadata": {},
   "outputs": [],
   "source": []
  },
  {
   "cell_type": "code",
   "execution_count": 5,
   "id": "3ce54d2c-fcdc-43cc-aa6d-d3ed30ebd63d",
   "metadata": {},
   "outputs": [],
   "source": [
    "tf.keras.backend.clear_session()\n",
    "np.random.seed(experiment_settings[\"seed\"])\n",
    "# random.seed(experiment_settings[\"seed\"])\n",
    "tf.random.set_seed(experiment_settings[\"seed\"])"
   ]
  },
  {
   "cell_type": "code",
   "execution_count": 6,
   "id": "6481243c-f6d5-4789-98d1-c82d9adf3b44",
   "metadata": {},
   "outputs": [],
   "source": [
    "A_train, F_train, I_train = preprocessing.make_data(models=experiment_settings[\"train_models\"], var=experiment_settings[\"input_variable\"],\n",
    "                                  timecut=experiment_settings[\"time_range\"], mems=experiment_settings[\"train_members\"])\n",
    "\n",
    "A_val, F_val, I_val = preprocessing.make_data(models=experiment_settings[\"val_models\"], var=experiment_settings[\"input_variable\"],\n",
    "                                  timecut=experiment_settings[\"time_range\"], mems=experiment_settings[\"val_members\"])"
   ]
  },
  {
   "cell_type": "code",
   "execution_count": 9,
   "id": "fbc095e3-88ff-492f-96b3-d608f20c389d",
   "metadata": {},
   "outputs": [
    {
     "data": {
      "text/plain": [
       "((730, 72, 144), (146, 72, 144))"
      ]
     },
     "execution_count": 9,
     "metadata": {},
     "output_type": "execute_result"
    }
   ],
   "source": [
    "A_train.shape, A_val.shape"
   ]
  },
  {
   "cell_type": "code",
   "execution_count": 23,
   "id": "a2ac1cb8-f4f6-49b3-ad7e-9e0424b2c7e6",
   "metadata": {},
   "outputs": [],
   "source": [
    "ss = np.empty([])\n",
    "tt = []"
   ]
  },
  {
   "cell_type": "code",
   "execution_count": null,
   "id": "ce4a69d8-ffdc-483e-a026-f0d8d542c9c1",
   "metadata": {},
   "outputs": [],
   "source": [
    "np.concatenate([A_train[:, :, :, np.newaxis], A_train[:, :, :, np.newaxis]], axis=-1).shape"
   ]
  },
  {
   "cell_type": "code",
   "execution_count": 22,
   "id": "8ae4a381-e34c-4184-adb3-9abeee28a5a5",
   "metadata": {},
   "outputs": [
    {
     "ename": "ValueError",
     "evalue": "zero-dimensional arrays cannot be concatenated",
     "output_type": "error",
     "traceback": [
      "\u001b[0;31m---------------------------------------------------------------------------\u001b[0m",
      "\u001b[0;31mValueError\u001b[0m                                Traceback (most recent call last)",
      "Cell \u001b[0;32mIn[22], line 1\u001b[0m\n\u001b[0;32m----> 1\u001b[0m \u001b[43mnp\u001b[49m\u001b[38;5;241;43m.\u001b[39;49m\u001b[43mconcatenate\u001b[49m\u001b[43m(\u001b[49m\u001b[43m[\u001b[49m\u001b[43mss\u001b[49m\u001b[43m,\u001b[49m\u001b[43m \u001b[49m\u001b[43mA_train\u001b[49m\u001b[43m[\u001b[49m\u001b[43m:\u001b[49m\u001b[43m,\u001b[49m\u001b[43m \u001b[49m\u001b[43m:\u001b[49m\u001b[43m,\u001b[49m\u001b[43m \u001b[49m\u001b[43m:\u001b[49m\u001b[43m,\u001b[49m\u001b[43m \u001b[49m\u001b[43mnp\u001b[49m\u001b[38;5;241;43m.\u001b[39;49m\u001b[43mnewaxis\u001b[49m\u001b[43m]\u001b[49m\u001b[43m]\u001b[49m\u001b[43m,\u001b[49m\u001b[43m \u001b[49m\u001b[43maxis\u001b[49m\u001b[38;5;241;43m=\u001b[39;49m\u001b[38;5;241;43m-\u001b[39;49m\u001b[38;5;241;43m1\u001b[39;49m\u001b[43m)\u001b[49m\u001b[38;5;241m.\u001b[39mshape\n",
      "File \u001b[0;32m<__array_function__ internals>:180\u001b[0m, in \u001b[0;36mconcatenate\u001b[0;34m(*args, **kwargs)\u001b[0m\n",
      "\u001b[0;31mValueError\u001b[0m: zero-dimensional arrays cannot be concatenated"
     ]
    }
   ],
   "source": [
    "np.concatenate([ss, A_train[:, :, :, np.newaxis]], axis=-1).shape"
   ]
  },
  {
   "cell_type": "code",
   "execution_count": 24,
   "id": "585806fb-1218-48a1-8c2c-5d5580df4390",
   "metadata": {},
   "outputs": [],
   "source": [
    "tt.append(A_train[:, :, :, np.newaxis])"
   ]
  },
  {
   "cell_type": "code",
   "execution_count": 27,
   "id": "751c068e-57bb-4acf-bf55-af9d0c8e1f03",
   "metadata": {},
   "outputs": [
    {
     "data": {
      "text/plain": [
       "(1, 730, 72, 144, 1)"
      ]
     },
     "execution_count": 27,
     "metadata": {},
     "output_type": "execute_result"
    }
   ],
   "source": [
    "np.array(tt).shape"
   ]
  },
  {
   "cell_type": "code",
   "execution_count": null,
   "id": "230a120c-7e37-4d71-90f9-b12d1e79a22d",
   "metadata": {},
   "outputs": [],
   "source": []
  }
 ],
 "metadata": {
  "kernelspec": {
   "display_name": "Python 3 (ipykernel)",
   "language": "python",
   "name": "python3"
  },
  "language_info": {
   "codemirror_mode": {
    "name": "ipython",
    "version": 3
   },
   "file_extension": ".py",
   "mimetype": "text/x-python",
   "name": "python",
   "nbconvert_exporter": "python",
   "pygments_lexer": "ipython3",
   "version": "3.9.16"
  }
 },
 "nbformat": 4,
 "nbformat_minor": 5
}
