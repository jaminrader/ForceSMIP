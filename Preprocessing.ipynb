{
 "cells": [
  {
   "cell_type": "markdown",
   "id": "7e696076-e016-4896-9ea0-6e4df0161b65",
   "metadata": {},
   "source": [
    "### We're gonna do some preprocessing\n",
    "\n",
    "I am doing this on Casper because I cannot figure out Asha, however I think the directory structure is the same once we navigate to the directory so maybe just start with"
   ]
  },
  {
   "cell_type": "code",
   "execution_count": 1,
   "id": "f1ba1ba3-2d61-4716-bd20-85d17e9de528",
   "metadata": {},
   "outputs": [],
   "source": [
    "machine = 'casper' # 'casper' or 'asha'"
   ]
  },
  {
   "cell_type": "markdown",
   "id": "90fabcb8-1ce6-444d-a5d6-ff5412a57bae",
   "metadata": {},
   "source": [
    "I am going to write code that can load in data for a specific model and variable from the training. Maybe a function that can be called to do that."
   ]
  },
  {
   "cell_type": "code",
   "execution_count": 2,
   "id": "2f162316-cf1d-4669-b5d1-927f560afcef",
   "metadata": {},
   "outputs": [],
   "source": [
    "# I/O / data wrangling\n",
    "import glob\n",
    "import numpy as np\n",
    "import xarray as xr\n",
    "import gc\n"
   ]
  },
  {
   "cell_type": "code",
   "execution_count": 3,
   "id": "8568069a-0a33-43ae-a2eb-b4ccbc7ec58b",
   "metadata": {},
   "outputs": [],
   "source": [
    "if machine == 'casper':\n",
    "    root_dir = \"/glade/campaign/cgd/cas/asphilli/ForceSMIP/\"\n",
    "elif machine == 'asha':\n",
    "    root_dir = \"/barnes-scratch/DATA/ForceSMIP/\""
   ]
  },
  {
   "cell_type": "code",
   "execution_count": 4,
   "id": "647f0ae2-4395-4cac-acf3-7450e79ffc1f",
   "metadata": {},
   "outputs": [],
   "source": [
    "cmipTable = {\n",
    "    \"pr\": \"Amon\",\n",
    "    \"psl\": \"Amon\",\n",
    "    \"tas\": \"Amon\",\n",
    "    \"zmta\": \"Amon\",\n",
    "    \"tos\": \"Omon\",\n",
    "    \"siconc\": \"OImon\",\n",
    "    \"monmaxpr\": \"Aday\",\n",
    "    \"monmaxtasmax\": \"Aday\",\n",
    "    \"monmintasmin\": \"Aday\",\n",
    "}\n",
    "cmipVar = {\n",
    "    \"pr\": \"pr\",\n",
    "    \"psl\": \"psl\",\n",
    "    \"tas\": \"tas\",\n",
    "    \"zmta\": \"ta\",\n",
    "    \"tos\": \"tos\",\n",
    "    \"siconc\": \"siconc\",\n",
    "    \"monmaxpr\": \"pr\",\n",
    "    \"monmaxtasmax\": \"tasmax\",\n",
    "    \"monmintasmin\": \"tasmin\",\n",
    "}\n",
    "evalPeriods = {\n",
    "    \"Tier1\": (\"1950-01-01\", \"2022-12-31\"),\n",
    "    \"Tier2\": (\"1900-01-01\", \"2022-12-31\"),\n",
    "    \"Tier3\": (\"1979-01-01\", \"2022-12-31\"),\n",
    "}\n",
    "nlat = 72\n",
    "nlon = 144"
   ]
  },
  {
   "cell_type": "code",
   "execution_count": 5,
   "id": "758d90da-bd4c-421e-a64e-5a630125cb6b",
   "metadata": {},
   "outputs": [],
   "source": [
    "def load_model(model,var,timecut=\"Tier1\",ntrainmems=10):\n",
    "\n",
    "    filelist = root_dir + \"Training/\" + cmipTable[var] + \"/\" + var + \"/\" + model + \"/\" + var + \"*.nc\"\n",
    "    filelist = glob.glob(filelist)\n",
    "    filelist = sorted(filelist)\n",
    "\n",
    "    timebds = evalPeriods[timecut]\n",
    "\n",
    "    all_ens = []\n",
    "    for ifile,file in enumerate(filelist[:ntrainmems]):\n",
    "        ds = xr.open_dataset(file)\n",
    "        varin = ds[cmipVar[var]]\n",
    "        varcut = varin.sel(time=slice(timebds[0],timebds[1]))\n",
    "        varcut = varcut.groupby('time.year').mean()  \n",
    "\n",
    "        varcut=varcut.assign_coords({\"variant\":ifile+1})\n",
    "        all_ens.append(varcut)\n",
    "\n",
    "    all_ens = xr.concat(all_ens,dim=\"variant\")\n",
    "    \n",
    "    return all_ens"
   ]
  },
  {
   "cell_type": "code",
   "execution_count": 10,
   "id": "93b861e7-7932-46b6-80c5-42576e7c9721",
   "metadata": {},
   "outputs": [],
   "source": [
    "def make_X_data(models = [\"CESM2\",\"MIROC6\",\"CanESM5\"], var = \"tos\", timecut = \"Tier1\", nmems = 20):\n",
    "    nmodels = len(models)\n",
    "\n",
    "    timebds = evalPeriods[timecut]\n",
    "    time1 = int(timebds[0][:4])\n",
    "    time2 = int(timebds[1][:4])\n",
    "\n",
    "    ntime = time2-time1+1\n",
    "\n",
    "    X = np.empty((ntime*nmems*nmodels,nlat,nlon))+np.nan\n",
    "\n",
    "    for imod, model in enumerate(models):\n",
    "\n",
    "        da=load_model(model,var,timecut,nmems)\n",
    "        da_np = np.asarray(da)\n",
    "        Xloop = np.empty((nmems*ntime,nlat,nlon))+np.nan\n",
    "\n",
    "        for imem in range(nmems):\n",
    "            Xloop[imem*ntime:(imem+1)*ntime,:,:] = da_np[imem,:,:,:]\n",
    "\n",
    "        X[nmems*ntime*imod:nmems*ntime*(imod+1),:,:] = Xloop\n",
    "\n",
    "    Xbad = np.mean(X,axis=0)\n",
    "    X[:,np.isnan(Xbad)] = 0\n",
    "    \n",
    "    return X\n",
    "\n"
   ]
  },
  {
   "cell_type": "code",
   "execution_count": 11,
   "id": "df5c6d14-abfd-48f5-a3ff-d97e96158193",
   "metadata": {},
   "outputs": [],
   "source": [
    "X=make_X_data()"
   ]
  },
  {
   "cell_type": "code",
   "execution_count": 12,
   "id": "e0ee5dcd-25fe-4ee5-841b-56973d7b5f2c",
   "metadata": {},
   "outputs": [
    {
     "data": {
      "text/plain": [
       "<matplotlib.collections.QuadMesh at 0x2acd7090fd90>"
      ]
     },
     "execution_count": 12,
     "metadata": {},
     "output_type": "execute_result"
    },
    {
     "data": {
      "image/png": "[encoded data removed]",
      "text/plain": [
       "<Figure size 640x480 with 1 Axes>"
      ]
     },
     "metadata": {},
     "output_type": "display_data"
    }
   ],
   "source": [
    "import matplotlib.pyplot as plt\n",
    "plt.pcolormesh(X[984,:,:])"
   ]
  },
  {
   "cell_type": "code",
   "execution_count": null,
   "id": "364b064a-67c6-4a7a-8db0-e40c63612262",
   "metadata": {},
   "outputs": [],
   "source": []
  }
 ],
 "metadata": {
  "kernelspec": {
   "display_name": "ForceSMIP",
   "language": "python",
   "name": "forcesmip"
  },
  "language_info": {
   "codemirror_mode": {
    "name": "ipython",
    "version": 3
   },
   "file_extension": ".py",
   "mimetype": "text/x-python",
   "name": "python",
   "nbconvert_exporter": "python",
   "pygments_lexer": "ipython3",
   "version": "3.9.17"
  }
 },
 "nbformat": 4,
 "nbformat_minor": 5
}
