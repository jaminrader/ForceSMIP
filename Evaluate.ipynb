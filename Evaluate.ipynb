{
 "cells": [
  {
   "cell_type": "code",
   "execution_count": 69,
   "id": "6e142066-d4f3-4205-b8ac-4dbfaf8a59a2",
   "metadata": {},
   "outputs": [],
   "source": [
    "import numpy as np\n",
    "import xarray as xr\n",
    "import matplotlib.pyplot as plt\n",
    "import cartopy.crs as ccrs\n",
    "from cartopy.util import add_cyclic_point\n",
    "import importlib as imp\n",
    "import netCDF4 as nc\n",
    "import os\n",
    "import experiments\n",
    "import tensorflow as tf\n",
    "import keras"
   ]
  },
  {
   "cell_type": "code",
   "execution_count": 59,
   "id": "44ce40ae",
   "metadata": {},
   "outputs": [],
   "source": [
    "VARIABLE = \"tos\"\n",
    "TIER = 1\n",
    "\n",
    "PLOT_PRED_EXAMPLE = False\n",
    "PLOT_AVG_ABS_DIFF = False\n",
    "\n",
    "FULL_PERIOD_TREND = False #\"Full-period trend (pattern correlation and RMSE)\"\n",
    "SUB_PERIOD_TREND = True #\"Sub-period trend (pattern correlation and RMSE)\"\n",
    "SUB_YEAR_N_PERIOD = 30\n",
    "\n",
    "#\"Monthly and annual time series of global means and means in latitude bands (correlation and RMSE)\"\n",
    "#\"Grid point, monthly & annual time series (global-mean correlation and MSE)\"\n",
    "#\"Indices: ENSO, East-West Pacific SST gradient, NAO, SAM, Southern Ocean SST, Arctic Amplification factor (in tas)\"\n",
    "\n",
    "#IDEAS\n",
    "#Ask Emily for pattern correlation\n"
   ]
  },
  {
   "cell_type": "code",
   "execution_count": 47,
   "id": "be13abbe-a94e-4f0f-97b2-52c0122dac5d",
   "metadata": {},
   "outputs": [],
   "source": [
    "'''Plotting Functions'''\n",
    "import matplotlib.colors\n",
    "\n",
    "lower = plt.cm.RdBu_r(np.linspace(0,.49, 49))\n",
    "white = plt.cm.RdBu_r(np.ones(2)*0.5)\n",
    "upper = plt.cm.RdBu_r(np.linspace(0.51, 1, 49))\n",
    "colors = np.vstack((lower, white, upper))\n",
    "tmap = matplotlib.colors.LinearSegmentedColormap.from_list('terrain_map_white', colors)\n",
    "\n",
    "def Line_Plot():\n",
    "    print(\"plotting lines\")\n",
    "\n",
    "def Plot_Gobal_Map(plot_data, title, levels, colorbar, colorbar_title):\n",
    "    plt.figure(dpi = (200), figsize = (6,4))\n",
    "    ax=plt.axes(projection= ccrs.PlateCarree())\n",
    "    data=plot_data\n",
    "    data, lonsr = add_cyclic_point(data, coord=lons)\n",
    "    cs=ax.contourf(lonsr, lats, data,\n",
    "                transform = ccrs.PlateCarree(),extend='both', cmap = colorbar,\n",
    "                levels = levels)\n",
    "\n",
    "    ax.coastlines()\n",
    "    cbar = plt.colorbar(cs,shrink=0.7,orientation='horizontal',label='Surface Air Temperature (K)', format='%.1f')#, pad=5)\n",
    "    cbar.set_label(colorbar_title)\n",
    "    plt.title(title)\n",
    "    \n",
    "    plt.show()"
   ]
  },
  {
   "cell_type": "code",
   "execution_count": 70,
   "id": "fb602611-1273-47a3-ba50-f33767de979b",
   "metadata": {},
   "outputs": [
    {
     "name": "stdout",
     "output_type": "stream",
     "text": [
      "<class 'netCDF4._netCDF4.Dataset'>\n",
      "root group (NETCDF3_CLASSIC data model, file format NETCDF3):\n",
      "    creation_date: Mon Jul 24 12:20:50 MDT 2023\n",
      "    evaluation_id: 1A\n",
      "    dimensions(sizes): time(876), lat(72), lon(144)\n",
      "    variables(dimensions): float64 tas(time, lat, lon), float64 time(time), float64 lat(lat), float64 lon(lon)\n",
      "    groups: \n",
      "4/4 [==============================] - 0s 1ms/step\n"
     ]
    }
   ],
   "source": [
    "'''Load Data and Model'''\n",
    "\n",
    "def load_npz(settings):\n",
    "    npzdat = np.load(settings['npz_dir'] + settings['exp_name'] + '.npz')\n",
    "    At, Ft, It, Av, Fv, Iv = npzdat['At'], npzdat['Ft'], npzdat['It'], npzdat['Av'], npzdat['Fv'], npzdat['Iv']\n",
    "    return At, Ft, It, Av, Fv, Iv\n",
    "\n",
    "Idata_file = nc.Dataset(\"/Users/charlotteconnolly/Documents/DATA/ForceSMIP/Evaluation/Amon/tas/tas_mon_1A.195001-202212.nc\")\n",
    "print(Idata_file)\n",
    "Idata = Idata_file[\"tas\"]\n",
    "Itime = Idata_file[\"time\"][:100]\n",
    "lats = Idata_file['lat']\n",
    "lons = Idata_file['lon']\n",
    "\n",
    "Odata_file = nc.Dataset(\"/Users/charlotteconnolly/Documents/DATA/ForceSMIP/Evaluation/Amon/tas/tas_mon_1A.195001-202212.nc\")\n",
    "Truth = Odata_file[\"tas\"][:100,:,:] #Truth\n",
    "Truth_time = Odata_file[\"time\"][:100]\n",
    "\n",
    "from keras.models import load_model\n",
    "model = load_model('/Users/charlotteconnolly/Documents/DATA/ForceSMIP/Models/tos_exp_0/tos_exp_00_model')\n",
    "# model.summary()\n",
    "\n",
    "Prediction = model.predict(Idata[:100, :, :])[:,:,:,0]\n"
   ]
  },
  {
   "cell_type": "code",
   "execution_count": 80,
   "id": "d768949b",
   "metadata": {},
   "outputs": [
    {
     "name": "stdout",
     "output_type": "stream",
     "text": [
      "The RMSE is: 0.0802942271702304\n",
      "The RMSE is: 0.08670234017007064\n",
      "The RMSE is: 0.09421339181488562\n"
     ]
    }
   ],
   "source": [
    "if FULL_PERIOD_TREND:\n",
    "    Truth_Trend = np.empty(shape = (72,144))\n",
    "    Predicted_Trend = np.empty(shape = (72,144))\n",
    "    for la in np.arange(0, lat_n, 1):\n",
    "        for lo in np.arange(0, lon_n, 1):\n",
    "            values = np.polyfit(Truth_time, Truth[:,la,lo], 1)\n",
    "            Truth_Trend[la,lo] = values[0] * len(Truth_time)\n",
    "\n",
    "            values = np.polyfit(Itime, Prediction[:,la,lo], 1)\n",
    "            Predicted_Trend[la,lo] = values[0] * len(Itime)\n",
    "\n",
    "    weighted_difference = (Predicted_Trend-Truth_Trend) * np.transpose(np.array([np.cos(np.deg2rad(lats)),]*144))\n",
    "    RMSE = np.sum((weighted_difference)**2/len(Truth_time))\n",
    "    print(\"The RMSE is: \" +str(RMSE))\n",
    "    Plot_Gobal_Map(Truth_Trend, \"Spatial trend of Truth\", None, tmap, \"\")\n",
    "    Plot_Gobal_Map(Predicted_Trend, \"Spatial trend of Prediction\", None, tmap, \"\")\n",
    "    Plot_Gobal_Map(Predicted_Trend-Truth_Trend, \"Difference between truth and prediction\", None, tmap, \"\")\n",
    "\n",
    "if SUB_YEAR_N_PERIOD:\n",
    "    sub_time = np.arange(0, len(Itime), SUB_YEAR_N_PERIOD)\n",
    "\n",
    "    for s, sub in enumerate(sub_time[:-1]):\n",
    "        Truth_Trend = np.empty(shape = (72,144))\n",
    "        Predicted_Trend = np.empty(shape = (72,144))\n",
    "        for la in np.arange(0, lat_n, 1):\n",
    "            for lo in np.arange(0, lon_n, 1):\n",
    "                values = np.polyfit(Truth_time[sub:sub_time[s+1]], Truth[sub:sub_time[s+1],la,lo], 1)\n",
    "                Truth_Trend[la,lo] = values[0] * SUB_YEAR_N_PERIOD\n",
    "\n",
    "                values = np.polyfit(Itime[sub:sub_time[s+1]], Prediction[sub:sub_time[s+1],la,lo], 1)\n",
    "                Predicted_Trend[la,lo] = values[0] * SUB_YEAR_N_PERIOD\n",
    "\n",
    "        weighted_difference = (Predicted_Trend-Truth_Trend) * np.transpose(np.array([np.cos(np.deg2rad(lats)),]*144))\n",
    "        RMSE = np.sum((weighted_difference)**2/len(Truth_time))\n",
    "        print(\"The RMSE is: \" +str(RMSE))"
   ]
  },
  {
   "cell_type": "code",
   "execution_count": 37,
   "id": "0b9d05ed",
   "metadata": {},
   "outputs": [],
   "source": [
    "if PLOT_PRED_EXAMPLE:\n",
    "    Plot_Gobal_Map(Prediction[0,:,:], \"Example of a Prediction\", None, tmap, \"\")\n",
    "\n",
    "'''Average Absolute Difference'''\n",
    "Difference = np.mean(np.abs(Prediction - Truth), axis = 0)\n",
    "\n",
    "if PLOT_AVG_ABS_DIFF:\n",
    "    Plot_Gobal_Map(Difference, \"Average Absolute Difference between \\nTruth and Prediction\", None, tmap, \"\")"
   ]
  }
 ],
 "metadata": {
  "kernelspec": {
   "display_name": "tensorflow_env",
   "language": "python",
   "name": "python3"
  },
  "language_info": {
   "codemirror_mode": {
    "name": "ipython",
    "version": 3
   },
   "file_extension": ".py",
   "mimetype": "text/x-python",
   "name": "python",
   "nbconvert_exporter": "python",
   "pygments_lexer": "ipython3",
   "version": "3.10.0"
  }
 },
 "nbformat": 4,
 "nbformat_minor": 5
}
